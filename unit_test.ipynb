{
 "cells": [
  {
   "cell_type": "code",
   "execution_count": 14,
   "metadata": {
    "collapsed": true
   },
   "outputs": [],
   "source": [
    "import ela\n",
    "from ela import *\n",
    "import pandas as pd\n",
    "import numpy as np"
   ]
  },
  {
   "cell_type": "code",
   "execution_count": 15,
   "metadata": {
    "collapsed": false
   },
   "outputs": [],
   "source": [
    "zip_data = pd.read_csv('zipcode_data.csv')\n",
    "gen_data = pd.read_csv('generation_data.csv')\n",
    "stor_data = pd.read_csv('storage_data.csv')"
   ]
  },
  {
   "cell_type": "code",
   "execution_count": 16,
   "metadata": {
    "collapsed": false
   },
   "outputs": [],
   "source": [
    "def test_get_latlon_from_zip():\n",
    "    \"\"\"Test for checking the latitude-longitude for the entered zip code\"\"\"\n",
    "    \n",
    "    assert ela.get_latlon_from_zip(98105)== (47.66377, -122.30118), \"Zipcode entered incorrectly!\"\n",
    "    assert type(ela.get_latlon_from_zip(81059))==tuple, \"Lat-Lon is not in the expected format\"\n",
    "    assert len(ela.get_latlon_from_zip(81059))==2 , \"The length of the tuple is incorrect\"\n",
    "    #Tests for input\n",
    "    try:\n",
    "        ela.get_latlon_from_zip('abcde')\n",
    "    except TypeError:\n",
    "        print(\"Incorrect zipcode\")  \n",
    "    return"
   ]
  },
  {
   "cell_type": "code",
   "execution_count": 17,
   "metadata": {
    "collapsed": true
   },
   "outputs": [],
   "source": [
    "def test_get_state_from_zip():\n",
    "    \"\"\"Test for checking the state for the entered zipcode\"\"\"\n",
    "    \n",
    "    assert type(ela.get_state_from_zip(11206))==str,\"Output is not a string\"\n",
    "    assert ela.get_state_from_zip(98105)=='WA', \"Zipcode does not match the state\"\n",
    "    assert len(ela.get_state_from_zip(98105))==2 ,\"The length of the string is incorrect\"\n",
    "    #Tests for input\n",
    "    try:\n",
    "        ela.get_state_from_zip('abcde')\n",
    "    except TypeError:\n",
    "        print(\"Incorrect zipcode\")\n",
    "    return\n"
   ]
  },
  {
   "cell_type": "code",
   "execution_count": 18,
   "metadata": {
    "collapsed": false
   },
   "outputs": [],
   "source": [
    "def test_get_closest_facility():\n",
    "    \"\"\"Test for predicting the closest energy generation facility for a given zipcode\"\"\"\n",
    "    \n",
    "    assert len(len(ela.get_closest_facility( ela.get_latlon_from_zip(98105),'gen').state))==2,\"The state name is a stirng of 2 characters\"\n",
    "    assert type(ela.get_closest_facility( ela.get_latlon_from_zip(98105),'gen').lat)==float,\"The latitude data is not precise\"\n",
    "    assert ela.get_closest_facility( ela.get_latlon_from_zip(98105),'gen').capacity_MW> ela.get_closest_facility( ela.get_latlon_from_zip(98034),'gen').production_GWh, \"Production is lesser than capacity\"\n",
    "    #Tests for input\n",
    "    try:\n",
    "        ela.get_closest_facility('abc','def', gen_data)\n",
    "    except TypeError:\n",
    "        print(\"Incorrect latitude and longitude input\")\n",
    "    return\n"
   ]
  },
  {
   "cell_type": "code",
   "execution_count": 19,
   "metadata": {
    "collapsed": false
   },
   "outputs": [],
   "source": [
    "def test_get_predicted_type():\n",
    "    \"\"\"Test for predict type of generation and storage facilities\"\"\"\n",
    "    \n",
    "    assert type(ela.get_predicted_type(ela.get_latlon_from_zip(98105),'stor'))==str ,\"Output is not a string\"\n",
    "    assert len(ela.get_predicted_type( ela.get_latlon_from_zip(98033), 'gen'))==3,\"The energy resource of the plant is not oil or gas\"\n",
    "    assert len(ela.get_predicted_type( ela.get_latlon_from_zip(98105), 'stor'))==16, \"The storage facility is not electro-chemical\"\n",
    "    return"
   ]
  },
  {
   "cell_type": "code",
   "execution_count": 20,
   "metadata": {
    "collapsed": false
   },
   "outputs": [],
   "source": [
    "def test_get_state_breakdown():\n",
    "    \"\"\"Test for giving out the type of energy generation for particular state in US\"\"\"\n",
    "    \n",
    "    A=ela.get_state_breakdown(ela.get_state_from_zip(98033),gen_data).Hydro\n",
    "    B=ela.get_state_breakdown(ela.get_state_from_zip(98033),gen_data).Wind\n",
    "    C=ela.get_state_breakdown(ela.get_state_from_zip(98033),gen_data).Gas\n",
    "    D=ela.get_state_breakdown(ela.get_state_from_zip(98033),gen_data).Nuclear\n",
    "    assert A[0]>B[0], \"Energy generated from wind is more than hydro\"\n",
    "    assert D[0]== '%0',\"Energy is generated from nuclear resources\"\n",
    "    assert C[0]<B[0], \"Energy generated from gas is more then wind\"\n",
    "    return"
   ]
  },
  {
   "cell_type": "code",
   "execution_count": 21,
   "metadata": {
    "collapsed": false
   },
   "outputs": [],
   "source": [
    "def test_get_energy_breakdown():\n",
    "    \"\"\"Test for giving out data on the type of energy generation resources across US\"\"\"\n",
    "    \n",
    "    solar = ela.get_energy_breakdown(gen_data, location='US').Solar[0].split('%')[0]\n",
    "    hydro = ela.get_energy_breakdown(gen_data, location='US').Hydro[0].split('%')[0]\n",
    "    gas = ela.get_energy_breakdown(gen_data, location='US').Gas[0].split('%')[0]\n",
    "    coal = ela.get_energy_breakdown(gen_data, location='US').Coal[0].split('%')[0]\n",
    "    assert int(solar) > int(hydro),\"energy generated from hydro and solar are different\"\n",
    "    assert len(list(ela.get_energy_breakdown(gen_data, location='US')))==10,\"total number of resources considered are incorrect\"\n",
    "    assert int(gas) > int(coal),\"energy generated from coal is more than gas\"\n",
    "    return"
   ]
  },
  {
   "cell_type": "code",
   "execution_count": 22,
   "metadata": {
    "collapsed": false
   },
   "outputs": [],
   "source": [
    "def test_state_type():\n",
    "    \"\"\"Test for a state wise break down in the type of energy generation resources in US\"\"\"\n",
    "    \n",
    "    oil_AK = ela.state_type(gen_data).Oil[0].split('%')[0]\n",
    "    oil_AL = ela.state_type(gen_data).Oil[1].split('%')[0]\n",
    "    hydro_WA = ela.state_type(gen_data).Hydro.WA.split('%')[0]\n",
    "    solar_WA = ela.state_type(gen_data).Solar.WA.split('%')[0]\n",
    "    assert int(oil_AK) > int(oil_AL),\"energy generated using oil as resource is greater in alabama than arkansas\"\n",
    "    assert int(hydro_WA) > int(solar_WA),\"energy geneeration from hydro plants is less than solar plants in WA \"\n",
    "    assert len(ela.state_type(gen_data))==51,\" incorrect number of states\"\n",
    "    return\n"
   ]
  }
 ],
 "metadata": {
  "anaconda-cloud": {},
  "kernelspec": {
   "display_name": "Python [default]",
   "language": "python",
   "name": "python3"
  },
  "language_info": {
   "codemirror_mode": {
    "name": "ipython",
    "version": 3
   },
   "file_extension": ".py",
   "mimetype": "text/x-python",
   "name": "python",
   "nbconvert_exporter": "python",
   "pygments_lexer": "ipython3",
   "version": "3.5.2"
  }
 },
 "nbformat": 4,
 "nbformat_minor": 2
}
