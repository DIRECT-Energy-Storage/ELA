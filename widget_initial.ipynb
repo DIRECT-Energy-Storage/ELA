{
 "cells": [
  {
   "cell_type": "code",
   "execution_count": 11,
   "metadata": {
    "collapsed": false
   },
   "outputs": [],
   "source": [
    "import ela\n",
    "from ipywidgets import widgets\n",
    "from IPython.display import display"
   ]
  },
  {
   "cell_type": "markdown",
   "metadata": {},
   "source": [
    "When you type your zipcode in this box and press Enter, it will print out your state."
   ]
  },
  {
   "cell_type": "code",
   "execution_count": 12,
   "metadata": {
    "collapsed": false,
    "scrolled": true
   },
   "outputs": [],
   "source": [
    "# Make a text box\n",
    "text = widgets.Text()\n",
    "\n",
    "# Display the text box\n",
    "display(text)\n",
    "\n",
    "# Set some initial text to be displayed in the box\n",
    "text.value = 'Enter your zipcode here'\n",
    "\n",
    "# Define a function to run when someone presses Enter\n",
    "# text.value refers to whatever is in the box\n",
    "# Here, we are using int(text.value) to change the string to an integer\n",
    "#     because ela.get_state_from_zip takes in an integer.\n",
    "def handle_submit(sender):\n",
    "    print(ela.get_state_from_zip(int(text.value)))\n",
    "\n",
    "# On submit (user presses Enter), the text box will call handle_submit\n",
    "text.on_submit(handle_submit)"
   ]
  },
  {
   "cell_type": "code",
   "execution_count": 13,
   "metadata": {
    "collapsed": false
   },
   "outputs": [],
   "source": [
    "widgets.BoundedFloatText(\n",
    "value=7.5,\n",
    "min=0,\n",
    "max=10.0,\n",
    "step=0.1,\n",
    "description='Text:',\n",
    "disabled=False,\n",
    "color='black'\n",
    ")"
   ]
  },
  {
   "cell_type": "code",
   "execution_count": 14,
   "metadata": {
    "collapsed": false
   },
   "outputs": [],
   "source": [
    "widgets.ToggleButton(\n",
    "value=False,\n",
    "description='Click me',\n",
    "disabled=False,\n",
    "button_style='', # 'success', 'info', 'warning', 'danger' or ''\n",
    "tooltip='Description',\n",
    "icon='check'\n",
    ")"
   ]
  },
  {
   "cell_type": "code",
   "execution_count": null,
   "metadata": {
    "collapsed": true
   },
   "outputs": [],
   "source": []
  }
 ],
 "metadata": {
  "anaconda-cloud": {},
  "kernelspec": {
   "display_name": "Python [default]",
   "language": "python",
   "name": "python3"
  },
  "language_info": {
   "codemirror_mode": {
    "name": "ipython",
    "version": 3
   },
   "file_extension": ".py",
   "mimetype": "text/x-python",
   "name": "python",
   "nbconvert_exporter": "python",
   "pygments_lexer": "ipython3",
   "version": "3.5.2"
  },
  "widgets": {
   "state": {
    "06fd84b8380844de8bc6e7aed73bf338": {
     "views": [
      {
       "cell_index": 3
      }
     ]
    },
    "0e4630c187f648cf9fe1d21ec1c1f563": {
     "views": [
      {
       "cell_index": 4
      }
     ]
    },
    "68cfddc2f33b4a0bb878451a6e9a42a9": {
     "views": [
      {
       "cell_index": 2
      }
     ]
    }
   },
   "version": "1.2.0"
  }
 },
 "nbformat": 4,
 "nbformat_minor": 0
}
